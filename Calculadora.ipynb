{
  "nbformat": 4,
  "nbformat_minor": 0,
  "metadata": {
    "colab": {
      "provenance": []
    },
    "kernelspec": {
      "name": "python3",
      "display_name": "Python 3"
    },
    "language_info": {
      "name": "python"
    }
  },
  "cells": [
    {
      "cell_type": "code",
      "execution_count": 20,
      "metadata": {
        "colab": {
          "base_uri": "https://localhost:8080/"
        },
        "id": "9bBvmgWEcmn4",
        "outputId": "0cc9bd74-e7d5-4f09-a8c8-52496694233b"
      },
      "outputs": [
        {
          "name": "stdout",
          "output_type": "stream",
          "text": [
            "Vamos fazer conta?\n",
            "Qual operação você quer realizar? [1] Soma [2] Subtração [3] Divisão [4] Multiplicação [0] Encerrar o programa\n",
            "2\n",
            "Digite o valor:\n",
            "5\n",
            "Qual o próximo valor?\n",
            "6\n",
            "-1\n",
            "Qual operação você quer realizar? [1] Soma [2] Subtração [3] Divisão [4] Multiplicação [0] Encerrar o programa\n",
            "0\n"
          ]
        }
      ],
      "source": [
        "print('Vamos fazer conta?')\n",
        "operacao = 1\n",
        "#Operação#\n",
        "while operacao != '0':\n",
        "\n",
        "  #Segundo escolher qual operação será realizada#\n",
        "  print('Qual operação você quer realizar? [1] Soma [2] Subtração [3] Divisão [4] Multiplicação [0] Encerrar o programa')\n",
        "  operacao = input()\n",
        "  if operacao == '0':\n",
        "    break\n",
        "  if operacao != '0'and operacao != '1'and operacao != '2'and operacao != '3'and operacao != '4':\n",
        "      print('Por favor digite um número entre 0 e 4')\n",
        "      input(operacao)\n",
        "\n",
        "\n",
        "  #Primeiro passo pegar o primeiro número#\n",
        "  print('Digite o valor:')\n",
        "  primeiro = int(input())\n",
        "\n",
        "\n",
        "  #Terceiro escolher o segundo núemero#\n",
        "  print('Qual o próximo valor?')\n",
        "  segundo = int(input())\n",
        "\n",
        "\n",
        "  if operacao == '1':\n",
        "      total = primeiro + segundo\n",
        "      print(total)\n",
        "\n",
        "  elif operacao == '2':\n",
        "      total = primeiro - segundo\n",
        "      print(total)\n",
        "\n",
        "  elif operacao == '3':\n",
        "      total = primeiro / segundo\n",
        "      print(total)\n",
        "\n",
        "  elif operacao == '4':\n",
        "      total = primeiro * segundo\n",
        "      print(total)\n",
        "\n",
        "\n"
      ]
    }
  ]
}